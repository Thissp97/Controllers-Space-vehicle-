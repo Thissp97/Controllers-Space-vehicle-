{
  "nbformat": 4,
  "nbformat_minor": 0,
  "metadata": {
    "colab": {
      "provenance": [],
      "authorship_tag": "ABX9TyMpxM6CotN98Wmn9sQ+KrXm",
      "include_colab_link": true
    },
    "kernelspec": {
      "name": "python3",
      "display_name": "Python 3"
    },
    "language_info": {
      "name": "python"
    }
  },
  "cells": [
    {
      "cell_type": "markdown",
      "metadata": {
        "id": "view-in-github",
        "colab_type": "text"
      },
      "source": [
        "<a href=\"https://colab.research.google.com/github/Thissp97/Controllers-Space-vehicle-/blob/main/projeto.ipynb\" target=\"_parent\"><img src=\"https://colab.research.google.com/assets/colab-badge.svg\" alt=\"Open In Colab\"/></a>"
      ]
    },
    {
      "cell_type": "markdown",
      "source": [
        "# Ship Detection"
      ],
      "metadata": {
        "id": "WcHsTc9CoE7O"
      }
    },
    {
      "cell_type": "markdown",
      "source": [
        "## Preparação dos dados\n"
      ],
      "metadata": {
        "id": "DryxUyqiuEuN"
      }
    },
    {
      "cell_type": "code",
      "execution_count": 22,
      "metadata": {
        "id": "2_2E4Sx1jp52"
      },
      "outputs": [],
      "source": [
        "import os"
      ]
    },
    {
      "cell_type": "code",
      "source": [
        "# Ajuste o caminho se necessário\n",
        "annotations_dir = \"/content/annotations\""
      ],
      "metadata": {
        "id": "IHP3CiBDoDUl"
      },
      "execution_count": 23,
      "outputs": []
    },
    {
      "cell_type": "code",
      "source": [
        "# Processar os arquivos XML\n",
        "!pip install lxml ultralytics"
      ],
      "metadata": {
        "colab": {
          "base_uri": "https://localhost:8080/"
        },
        "id": "0JQvADXvo8RR",
        "outputId": "5c9d7e7a-2364-4140-cff3-4c4bd989262d"
      },
      "execution_count": 8,
      "outputs": [
        {
          "output_type": "stream",
          "name": "stdout",
          "text": [
            "\u001b[31mERROR: Operation cancelled by user\u001b[0m\u001b[31m\n",
            "\u001b[0m"
          ]
        }
      ]
    },
    {
      "cell_type": "code",
      "source": [
        "# Criar uma pasta para armazenar o novo arquivo\n",
        "output_dir = \"/content/labels_yolo\"\n",
        "os.makedirs(output_dir, exist_ok=True)"
      ],
      "metadata": {
        "id": "FBIcIWc1pXEe"
      },
      "execution_count": 24,
      "outputs": []
    },
    {
      "cell_type": "markdown",
      "source": [
        "## Converter os Arquivos XML para o Formato YOLO"
      ],
      "metadata": {
        "id": "1LMEv20TvFFW"
      }
    },
    {
      "cell_type": "code",
      "source": [
        "import xml.etree.ElementTree as ET\n",
        "\n",
        "# <class_id> <x_center> <y_center> <width> <height>  ------> Parametros esperados\n",
        "\n",
        "\n",
        "# Definir o formato de classes sendo \"boat\": 0\n",
        "class_mapping = {\"boat\": 0}\n",
        "\n",
        "\n",
        "def convert_xml_to_yolo(xml_file, output_txt):\n",
        "\n",
        "    # Abrir um ficheiro XML e acessar os seus parametros\n",
        "    tree = ET.parse(xml_file)\n",
        "    root = tree.getroot()\n",
        "\n",
        "\n",
        "    # Tamanho da imagem\n",
        "    image_width = int(root.find(\"size/width\").text)\n",
        "    image_height = int(root.find(\"size/height\").text)\n",
        "\n",
        "\n",
        "    # Criar o Arquivo de Saída\n",
        "    with open(output_txt, \"w\") as txt_file:\n",
        "\n",
        "      for obj in root.findall(\"object\"):\n",
        "        class_name = obj.find(\"name\").text\n",
        "\n",
        "        if class_name not in class_mapping:\n",
        "          continue\n",
        "\n",
        "        class_id = class_mapping[class_name]\n",
        "        bbox = obj.find(\"bndbox\")\n",
        "        xmin = int(bbox.find(\"xmin\").text)\n",
        "        ymin = int(bbox.find(\"ymin\").text)\n",
        "        xmax = int(bbox.find(\"xmax\").text)\n",
        "        ymax = int(bbox.find(\"ymax\").text)\n",
        "\n",
        "\n",
        "        # Converter coordenadas para YOLO format\n",
        "        x_center = (xmin + xmax) / (2 * image_width)\n",
        "        y_center = (ymin + ymax) / (2 * image_height)\n",
        "        width    = (xmax - xmin) / image_width\n",
        "        height   = (ymax - ymin) / image_height\n",
        "\n",
        "\n",
        "        # Escrever no arquivo TXT\n",
        "        txt_file.write(f\"{class_id} {x_center} {y_center} {width} {height}\\n\")\n",
        "\n",
        "\n",
        "\n",
        "# Converter todos os arquivos XML para YOLO\n",
        "for xml_file in os.listdir(annotations_dir):\n",
        "    if xml_file.endswith(\".xml\"):\n",
        "        xml_path = os.path.join(annotations_dir, xml_file)\n",
        "        txt_output = os.path.join(output_dir, xml_file.replace(\".xml\", \".txt\"))\n",
        "\n",
        "        # Chamar a função ç\n",
        "        convert_xml_to_yolo(xml_path, txt_output)\n",
        "\n",
        "\n",
        "print(f\"Conversão concluída! Arquivos YOLO salvos em {output_dir}\")"
      ],
      "metadata": {
        "colab": {
          "base_uri": "https://localhost:8080/"
        },
        "id": "UnJ9ozlr0MxV",
        "outputId": "d24127d0-d3e0-4151-975d-a5a3bfcc3a6f"
      },
      "execution_count": 27,
      "outputs": [
        {
          "output_type": "stream",
          "name": "stdout",
          "text": [
            "Conversão concluída! Arquivos YOLO salvos em /content/labels_yolo\n"
          ]
        }
      ]
    }
  ]
}